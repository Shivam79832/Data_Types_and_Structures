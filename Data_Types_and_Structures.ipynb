{
  "nbformat": 4,
  "nbformat_minor": 0,
  "metadata": {
    "colab": {
      "provenance": []
    },
    "kernelspec": {
      "name": "python3",
      "display_name": "Python 3"
    },
    "language_info": {
      "name": "python"
    }
  },
  "cells": [
    {
      "cell_type": "code",
      "execution_count": null,
      "metadata": {
        "id": "lyM1BUdIrR1v"
      },
      "outputs": [],
      "source": []
    },
    {
      "cell_type": "markdown",
      "source": [
        "# 1. Create a string with your name and print it"
      ],
      "metadata": {
        "id": "NJom5l2krTQW"
      }
    },
    {
      "cell_type": "code",
      "source": [
        "Name= \"Shivam\"\n",
        "print(Name)"
      ],
      "metadata": {
        "colab": {
          "base_uri": "https://localhost:8080/"
        },
        "id": "BLfgqhgNrUE1",
        "outputId": "377cba3c-2469-4010-81ab-e4daade4b103"
      },
      "execution_count": 2,
      "outputs": [
        {
          "output_type": "stream",
          "name": "stdout",
          "text": [
            "Shivam\n"
          ]
        }
      ]
    },
    {
      "cell_type": "markdown",
      "source": [
        "# 2. Find length of \"Hello World\"\n"
      ],
      "metadata": {
        "id": "y-Jcb8G2rjY_"
      }
    },
    {
      "cell_type": "code",
      "source": [
        "print(len(\"Hello World\"))"
      ],
      "metadata": {
        "colab": {
          "base_uri": "https://localhost:8080/"
        },
        "id": "kb2qSS5mrcGG",
        "outputId": "9ddb8949-711e-4ac0-fce6-6ce8b55a8c62"
      },
      "execution_count": 3,
      "outputs": [
        {
          "output_type": "stream",
          "name": "stdout",
          "text": [
            "11\n"
          ]
        }
      ]
    },
    {
      "cell_type": "markdown",
      "source": [
        "# 3. Slice first 3 characters from \"Python Programming\"\n"
      ],
      "metadata": {
        "id": "pfVn-LT8r0dl"
      }
    },
    {
      "cell_type": "code",
      "source": [
        "print(\"Python Programming\"[:3])"
      ],
      "metadata": {
        "colab": {
          "base_uri": "https://localhost:8080/"
        },
        "id": "Hwpk_j5erutV",
        "outputId": "4bfa0420-59ff-4280-a7c2-e46a0f56d23a"
      },
      "execution_count": 4,
      "outputs": [
        {
          "output_type": "stream",
          "name": "stdout",
          "text": [
            "Pyt\n"
          ]
        }
      ]
    },
    {
      "cell_type": "markdown",
      "source": [
        "# 4. Convert \"hello\" to uppercase"
      ],
      "metadata": {
        "id": "Os9qa8vDr99_"
      }
    },
    {
      "cell_type": "code",
      "source": [
        "print(\"hello\".upper())"
      ],
      "metadata": {
        "colab": {
          "base_uri": "https://localhost:8080/"
        },
        "id": "c400NbMgr7sV",
        "outputId": "0928a42e-b3d1-458b-d51a-7baf4922751f"
      },
      "execution_count": 7,
      "outputs": [
        {
          "output_type": "stream",
          "name": "stdout",
          "text": [
            "HELLO\n"
          ]
        }
      ]
    },
    {
      "cell_type": "markdown",
      "source": [
        "# 5. Replace \"apple\" with \"orange\" in \"I like apple\""
      ],
      "metadata": {
        "id": "pngqpSCssUhu"
      }
    },
    {
      "cell_type": "code",
      "source": [
        "print(\"I like apple\".replace(\"apple\", \"orange\"))"
      ],
      "metadata": {
        "colab": {
          "base_uri": "https://localhost:8080/"
        },
        "id": "IgafBEazsGoc",
        "outputId": "23a3c623-c90c-45b2-89ae-8c172d26a51b"
      },
      "execution_count": 9,
      "outputs": [
        {
          "output_type": "stream",
          "name": "stdout",
          "text": [
            "I like orange\n"
          ]
        }
      ]
    },
    {
      "cell_type": "markdown",
      "source": [
        "# 6. Create a list with numbers 1 to 5 and print"
      ],
      "metadata": {
        "id": "yxsElHX7s4Ge"
      }
    },
    {
      "cell_type": "code",
      "source": [
        "nums = [1, 2, 3, 4, 5]\n",
        "print(nums)"
      ],
      "metadata": {
        "colab": {
          "base_uri": "https://localhost:8080/"
        },
        "id": "SoeQPNsfs_Zl",
        "outputId": "e4734a90-c04f-424a-9238-a6887c7f2491"
      },
      "execution_count": 10,
      "outputs": [
        {
          "output_type": "stream",
          "name": "stdout",
          "text": [
            "[1, 2, 3, 4, 5]\n"
          ]
        }
      ]
    },
    {
      "cell_type": "markdown",
      "source": [
        "# 7. Append 10 to [1, 2, 3, 4]"
      ],
      "metadata": {
        "id": "X9Fx5qNltE3V"
      }
    },
    {
      "cell_type": "code",
      "source": [
        "lst = [1, 2, 3, 4]\n",
        "lst.append(10)\n",
        "print(lst)"
      ],
      "metadata": {
        "colab": {
          "base_uri": "https://localhost:8080/"
        },
        "id": "1Z46yQaFs_-s",
        "outputId": "e7ac9a30-2fc1-4d8c-d972-a764f2b01c10"
      },
      "execution_count": 11,
      "outputs": [
        {
          "output_type": "stream",
          "name": "stdout",
          "text": [
            "[1, 2, 3, 4, 10]\n"
          ]
        }
      ]
    },
    {
      "cell_type": "markdown",
      "source": [
        "# 8. Remove 3 from [1, 2, 3, 4, 5]"
      ],
      "metadata": {
        "id": "zSxyJ-CetJoN"
      }
    },
    {
      "cell_type": "code",
      "source": [
        "lst = [1, 2, 3, 4, 5]\n",
        "lst.remove(3)\n",
        "print(lst)"
      ],
      "metadata": {
        "colab": {
          "base_uri": "https://localhost:8080/"
        },
        "id": "mv4eKORptHU8",
        "outputId": "d0e26197-bc51-4010-84fd-791eda69b8be"
      },
      "execution_count": 12,
      "outputs": [
        {
          "output_type": "stream",
          "name": "stdout",
          "text": [
            "[1, 2, 4, 5]\n"
          ]
        }
      ]
    },
    {
      "cell_type": "markdown",
      "source": [
        "# 9. Access second element in ['a', 'b', 'c', 'd']"
      ],
      "metadata": {
        "id": "UuyKVFjQtPtd"
      }
    },
    {
      "cell_type": "code",
      "source": [
        "lst = ['a', 'b', 'c', 'd']\n",
        "print(lst[1])"
      ],
      "metadata": {
        "colab": {
          "base_uri": "https://localhost:8080/"
        },
        "id": "MuBbYxiQtMl8",
        "outputId": "3c2163d2-ec1c-401d-f027-a4959b84cf66"
      },
      "execution_count": 13,
      "outputs": [
        {
          "output_type": "stream",
          "name": "stdout",
          "text": [
            "b\n"
          ]
        }
      ]
    },
    {
      "cell_type": "markdown",
      "source": [
        "# 10. Reverse [10, 20, 30, 40, 50]"
      ],
      "metadata": {
        "id": "u4Gyl8DStU3F"
      }
    },
    {
      "cell_type": "code",
      "source": [
        "lst = [10, 20, 30, 40, 50]\n",
        "lst.reverse()\n",
        "print(lst)"
      ],
      "metadata": {
        "colab": {
          "base_uri": "https://localhost:8080/"
        },
        "id": "JPU6ZiubtSTV",
        "outputId": "66baaa22-9182-46e2-9ca3-c7766732e7ff"
      },
      "execution_count": 14,
      "outputs": [
        {
          "output_type": "stream",
          "name": "stdout",
          "text": [
            "[50, 40, 30, 20, 10]\n"
          ]
        }
      ]
    },
    {
      "cell_type": "markdown",
      "source": [
        "# 11. Create and print tuple (100, 200, 300)"
      ],
      "metadata": {
        "id": "g4znZ4P6tcKM"
      }
    },
    {
      "cell_type": "code",
      "source": [
        "t = (100, 200, 300)\n",
        "print(t)"
      ],
      "metadata": {
        "colab": {
          "base_uri": "https://localhost:8080/"
        },
        "id": "TW3QWLgztXhU",
        "outputId": "2e520af0-6c70-4d65-e6a6-d980e68a48e0"
      },
      "execution_count": 15,
      "outputs": [
        {
          "output_type": "stream",
          "name": "stdout",
          "text": [
            "(100, 200, 300)\n"
          ]
        }
      ]
    },
    {
      "cell_type": "markdown",
      "source": [
        "# 12. Access second-to-last in ('red', 'green', 'blue', 'yellow')"
      ],
      "metadata": {
        "id": "752Yj0qEth1N"
      }
    },
    {
      "cell_type": "code",
      "source": [
        "t = ('red', 'green', 'blue', 'yellow')\n",
        "print(t[-2])"
      ],
      "metadata": {
        "colab": {
          "base_uri": "https://localhost:8080/"
        },
        "id": "YbjiaiMbtfo0",
        "outputId": "4d5198e4-e2fb-4f2d-e5f8-0f8717df1404"
      },
      "execution_count": 16,
      "outputs": [
        {
          "output_type": "stream",
          "name": "stdout",
          "text": [
            "blue\n"
          ]
        }
      ]
    },
    {
      "cell_type": "markdown",
      "source": [
        "# 13. Find min in (10, 20, 5, 15)"
      ],
      "metadata": {
        "id": "7b6gJ7q6tlFN"
      }
    },
    {
      "cell_type": "code",
      "source": [
        "print(min((10, 20, 5, 15)))\n"
      ],
      "metadata": {
        "colab": {
          "base_uri": "https://localhost:8080/"
        },
        "id": "ni3OmtVitkHV",
        "outputId": "b7133871-549c-4ef9-9179-250dd95e49b0"
      },
      "execution_count": 17,
      "outputs": [
        {
          "output_type": "stream",
          "name": "stdout",
          "text": [
            "5\n"
          ]
        }
      ]
    },
    {
      "cell_type": "markdown",
      "source": [
        "# 14. Find index of \"cat\" in ('dog', 'cat', 'rabbit')"
      ],
      "metadata": {
        "id": "ZacYi1vXtqyf"
      }
    },
    {
      "cell_type": "code",
      "source": [
        "print(('dog', 'cat', 'rabbit').index(\"cat\"))\n"
      ],
      "metadata": {
        "colab": {
          "base_uri": "https://localhost:8080/"
        },
        "id": "WxOBrrpXtods",
        "outputId": "6e5c73cc-3ddc-462d-d933-d01288c78ebf"
      },
      "execution_count": 18,
      "outputs": [
        {
          "output_type": "stream",
          "name": "stdout",
          "text": [
            "1\n"
          ]
        }
      ]
    },
    {
      "cell_type": "markdown",
      "source": [
        "# 15. Check if \"kiwi\" in a fruit tuple"
      ],
      "metadata": {
        "id": "inYqqDUvt0HN"
      }
    },
    {
      "cell_type": "code",
      "source": [
        "fruits = (\"apple\", \"banana\", \"cherry\")\n",
        "print(\"kiwi\" in fruits)"
      ],
      "metadata": {
        "colab": {
          "base_uri": "https://localhost:8080/"
        },
        "id": "6waT8KOHt65k",
        "outputId": "55b7ab04-39e7-4a75-a4e5-a8ef38b4187d"
      },
      "execution_count": 20,
      "outputs": [
        {
          "output_type": "stream",
          "name": "stdout",
          "text": [
            "False\n"
          ]
        }
      ]
    },
    {
      "cell_type": "markdown",
      "source": [
        "# 16. Create and print set {'a', 'b', 'c'}"
      ],
      "metadata": {
        "id": "GvxKvZHSt8Td"
      }
    },
    {
      "cell_type": "code",
      "source": [
        "s = {'a', 'b', 'c'}\n",
        "print(s)"
      ],
      "metadata": {
        "colab": {
          "base_uri": "https://localhost:8080/"
        },
        "id": "IcNCEAi2t7XM",
        "outputId": "1260e85f-992f-48ca-ad83-5965d71e16d6"
      },
      "execution_count": 21,
      "outputs": [
        {
          "output_type": "stream",
          "name": "stdout",
          "text": [
            "{'c', 'a', 'b'}\n"
          ]
        }
      ]
    },
    {
      "cell_type": "markdown",
      "source": [
        "# 17. Clear all elements from {1, 2, 3, 4, 5}"
      ],
      "metadata": {
        "id": "hd1A6ZLUuB0V"
      }
    },
    {
      "cell_type": "code",
      "source": [
        "s = {1, 2, 3, 4, 5}\n",
        "s.clear()\n",
        "print(s)"
      ],
      "metadata": {
        "colab": {
          "base_uri": "https://localhost:8080/"
        },
        "id": "9hjpQaiTt_wU",
        "outputId": "887ff7a8-afa0-478c-f268-e9364bb6af18"
      },
      "execution_count": 22,
      "outputs": [
        {
          "output_type": "stream",
          "name": "stdout",
          "text": [
            "set()\n"
          ]
        }
      ]
    },
    {
      "cell_type": "markdown",
      "source": [
        "# 18. Remove 4 from {1, 2, 3, 4}"
      ],
      "metadata": {
        "id": "zA_c34y5uE2t"
      }
    },
    {
      "cell_type": "code",
      "source": [
        "s = {1, 2, 3, 4}\n",
        "s.remove(4)\n",
        "print(s)"
      ],
      "metadata": {
        "colab": {
          "base_uri": "https://localhost:8080/"
        },
        "id": "dS82lGYAuEJc",
        "outputId": "af805d54-d798-4753-986d-e2ae06a2a617"
      },
      "execution_count": 23,
      "outputs": [
        {
          "output_type": "stream",
          "name": "stdout",
          "text": [
            "{1, 2, 3}\n"
          ]
        }
      ]
    },
    {
      "cell_type": "markdown",
      "source": [
        "# 19. Union of {1, 2, 3} and {3, 4, 5}"
      ],
      "metadata": {
        "id": "JYq3GK0wuRhO"
      }
    },
    {
      "cell_type": "code",
      "source": [
        "print({1, 2, 3} | {3, 4, 5})\n"
      ],
      "metadata": {
        "colab": {
          "base_uri": "https://localhost:8080/"
        },
        "id": "6smItJpluQqL",
        "outputId": "6c0df209-a4f2-4758-ebfa-e991666bd28d"
      },
      "execution_count": 24,
      "outputs": [
        {
          "output_type": "stream",
          "name": "stdout",
          "text": [
            "{1, 2, 3, 4, 5}\n"
          ]
        }
      ]
    },
    {
      "cell_type": "markdown",
      "source": [
        "# 20. Intersection of {1, 2, 3} and {2, 3, 4}"
      ],
      "metadata": {
        "id": "GHpgK_c1uX7E"
      }
    },
    {
      "cell_type": "code",
      "source": [
        "print({1, 2, 3} & {2, 3, 4})\n"
      ],
      "metadata": {
        "colab": {
          "base_uri": "https://localhost:8080/"
        },
        "id": "RLCy7k6CuW1E",
        "outputId": "28f48df9-18c3-4d3c-ce1b-b84d944da6f2"
      },
      "execution_count": 25,
      "outputs": [
        {
          "output_type": "stream",
          "name": "stdout",
          "text": [
            "{2, 3}\n"
          ]
        }
      ]
    },
    {
      "cell_type": "markdown",
      "source": [
        "#21. Create and print dictionary"
      ],
      "metadata": {
        "id": "Eq3p8y-Sudm1"
      }
    },
    {
      "cell_type": "code",
      "source": [
        "d = {\"name\": \"Alice\", \"age\": 30, \"city\": \"Paris\"}\n",
        "print(d)"
      ],
      "metadata": {
        "colab": {
          "base_uri": "https://localhost:8080/"
        },
        "id": "-hOFDoUsube7",
        "outputId": "2bdcce67-a8df-46dc-bf5c-c93482a3b4c8"
      },
      "execution_count": 26,
      "outputs": [
        {
          "output_type": "stream",
          "name": "stdout",
          "text": [
            "{'name': 'Alice', 'age': 30, 'city': 'Paris'}\n"
          ]
        }
      ]
    },
    {
      "cell_type": "markdown",
      "source": [
        "# 22. Add \"country\": \"USA\" to {'name': 'John', 'age': 25}"
      ],
      "metadata": {
        "id": "wTap5f4SupqN"
      }
    },
    {
      "cell_type": "code",
      "source": [
        "d = {'name': 'John', 'age': 25}\n",
        "d[\"country\"] = \"USA\"\n",
        "print(d)"
      ],
      "metadata": {
        "colab": {
          "base_uri": "https://localhost:8080/"
        },
        "id": "lcIqwGU-uneD",
        "outputId": "c344034c-99a1-437d-88b9-ff09219106a8"
      },
      "execution_count": 27,
      "outputs": [
        {
          "output_type": "stream",
          "name": "stdout",
          "text": [
            "{'name': 'John', 'age': 25, 'country': 'USA'}\n"
          ]
        }
      ]
    },
    {
      "cell_type": "markdown",
      "source": [
        "# 23. Access value with key \"name\""
      ],
      "metadata": {
        "id": "c0yA0bu5utxd"
      }
    },
    {
      "cell_type": "code",
      "source": [
        "d = {'name': 'Alice', 'age': 30}\n",
        "print(d[\"name\"])"
      ],
      "metadata": {
        "colab": {
          "base_uri": "https://localhost:8080/"
        },
        "id": "0beFvjz0usmM",
        "outputId": "8ee76eb6-ced3-4d57-eafc-29ff67e20560"
      },
      "execution_count": 28,
      "outputs": [
        {
          "output_type": "stream",
          "name": "stdout",
          "text": [
            "Alice\n"
          ]
        }
      ]
    },
    {
      "cell_type": "markdown",
      "source": [
        "# 24. Remove \"age\" from {'name': 'Bob', 'age': 22, 'city': 'New York'}"
      ],
      "metadata": {
        "id": "n6q9mA_Nux_d"
      }
    },
    {
      "cell_type": "code",
      "source": [
        "d = {'name': 'Bob', 'age': 22, 'city': 'New York'}\n",
        "d.pop(\"age\")\n",
        "print(d)"
      ],
      "metadata": {
        "colab": {
          "base_uri": "https://localhost:8080/"
        },
        "id": "CXA-b3XDuxPc",
        "outputId": "11f2d757-3ed6-478c-f05b-bc3f3125652c"
      },
      "execution_count": 30,
      "outputs": [
        {
          "output_type": "stream",
          "name": "stdout",
          "text": [
            "{'name': 'Bob', 'city': 'New York'}\n"
          ]
        }
      ]
    },
    {
      "cell_type": "markdown",
      "source": [
        "# 25. Check if \"city\" in {'name': 'Alice', 'city': 'Paris'}\n"
      ],
      "metadata": {
        "id": "w2qXpj34u7Tc"
      }
    },
    {
      "cell_type": "code",
      "source": [
        "d = {'name': 'Alice', 'city': 'Paris'}\n",
        "print(\"city\" in d)"
      ],
      "metadata": {
        "colab": {
          "base_uri": "https://localhost:8080/"
        },
        "id": "LsK8chZ9u5v7",
        "outputId": "397457f6-2661-4478-dd9a-984871618172"
      },
      "execution_count": 31,
      "outputs": [
        {
          "output_type": "stream",
          "name": "stdout",
          "text": [
            "True\n"
          ]
        }
      ]
    },
    {
      "cell_type": "markdown",
      "source": [
        "# 26. Create list, tuple, dict and print them\n"
      ],
      "metadata": {
        "id": "zJ996sMjvCZE"
      }
    },
    {
      "cell_type": "code",
      "source": [
        "lst = [1, 2, 3]\n",
        "t = (4, 5, 6)\n",
        "d = {\"a\": 1, \"b\": 2}\n",
        "print(lst, t, d)"
      ],
      "metadata": {
        "colab": {
          "base_uri": "https://localhost:8080/"
        },
        "id": "6GU1hfb2vBpr",
        "outputId": "54ea9d3d-55e2-4b52-cc9b-c57bc056261d"
      },
      "execution_count": 32,
      "outputs": [
        {
          "output_type": "stream",
          "name": "stdout",
          "text": [
            "[1, 2, 3] (4, 5, 6) {'a': 1, 'b': 2}\n"
          ]
        }
      ]
    },
    {
      "cell_type": "markdown",
      "source": [
        "# 27. List of 5 random numbers, sort and print\n"
      ],
      "metadata": {
        "id": "lxCXLCGsvInN"
      }
    },
    {
      "cell_type": "code",
      "source": [
        "import random\n",
        "lst = random.sample(range(1, 101), 5)\n",
        "lst.sort()\n",
        "print(lst)"
      ],
      "metadata": {
        "colab": {
          "base_uri": "https://localhost:8080/"
        },
        "id": "n7s_JFMYvGWb",
        "outputId": "056826de-628a-4be3-87b6-09db8ac6e7f5"
      },
      "execution_count": 33,
      "outputs": [
        {
          "output_type": "stream",
          "name": "stdout",
          "text": [
            "[6, 8, 15, 32, 77]\n"
          ]
        }
      ]
    },
    {
      "cell_type": "markdown",
      "source": [
        "# 28. List with strings and print element at third index\n"
      ],
      "metadata": {
        "id": "SPvNXi3fvPO9"
      }
    },
    {
      "cell_type": "code",
      "source": [
        "lst = [\"apple\", \"banana\", \"cherry\", \"date\", \"fig\"]\n",
        "print(lst[3])"
      ],
      "metadata": {
        "colab": {
          "base_uri": "https://localhost:8080/"
        },
        "id": "3sFQ_O5WvM6r",
        "outputId": "52ec14fc-6d86-4289-96bf-b57ba4a02c03"
      },
      "execution_count": 34,
      "outputs": [
        {
          "output_type": "stream",
          "name": "stdout",
          "text": [
            "date\n"
          ]
        }
      ]
    },
    {
      "cell_type": "markdown",
      "source": [
        "# 29. Combine two dictionaries and print\n"
      ],
      "metadata": {
        "id": "P2vTUovxvS3c"
      }
    },
    {
      "cell_type": "code",
      "source": [
        "d1 = {\"a\": 1, \"b\": 2}\n",
        "d2 = {\"c\": 3, \"d\": 4}\n",
        "d1.update(d2)\n",
        "print(d1)\n"
      ],
      "metadata": {
        "colab": {
          "base_uri": "https://localhost:8080/"
        },
        "id": "XqTCpuVOvR8b",
        "outputId": "84e2fbdf-5502-47bf-908e-d79d63c0723f"
      },
      "execution_count": 35,
      "outputs": [
        {
          "output_type": "stream",
          "name": "stdout",
          "text": [
            "{'a': 1, 'b': 2, 'c': 3, 'd': 4}\n"
          ]
        }
      ]
    },
    {
      "cell_type": "markdown",
      "source": [
        "# 30. Convert list of strings to set"
      ],
      "metadata": {
        "id": "ieW-KjpHvkAd"
      }
    },
    {
      "cell_type": "code",
      "source": [
        "lst = [\"apple\", \"banana\", \"apple\"]\n",
        "s = set(lst)\n",
        "print(s)"
      ],
      "metadata": {
        "colab": {
          "base_uri": "https://localhost:8080/"
        },
        "id": "a7BcVBFKvhiT",
        "outputId": "96155626-f578-44bd-c53d-e562ff93686e"
      },
      "execution_count": 36,
      "outputs": [
        {
          "output_type": "stream",
          "name": "stdout",
          "text": [
            "{'apple', 'banana'}\n"
          ]
        }
      ]
    },
    {
      "cell_type": "code",
      "source": [],
      "metadata": {
        "id": "iSPLuP9WvoQD"
      },
      "execution_count": null,
      "outputs": []
    }
  ]
}